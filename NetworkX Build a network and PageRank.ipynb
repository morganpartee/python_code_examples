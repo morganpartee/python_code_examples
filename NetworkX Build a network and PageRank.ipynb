{
 "cells": [
  {
   "cell_type": "code",
   "execution_count": 3,
   "metadata": {},
   "outputs": [],
   "source": [
    "import arxiv\n",
    "import networkx as nx\n",
    "from itertools import chain\n",
    "from collections import Counter\n",
    "\n",
    "authors = {}\n",
    "#Get the results for ML searches on arxiv- Iterative returns a generator\n",
    "results = arxiv.query(\"machine learning\", iterative=True)\n",
    "\n",
    "for paper in results():\n",
    "    #Skip the paper if metadata is bad\n",
    "    if paper.get('authors') == None:\n",
    "        continue\n",
    "    for author in paper.get('authors'):\n",
    "        #Add the author if not present\n",
    "        authors.setdefault(author, Counter())\n",
    "        #And add coauthors to the counter\n",
    "        authors[author].update(paper.get('authors'))"
   ]
  },
  {
   "cell_type": "code",
   "execution_count": 4,
   "metadata": {},
   "outputs": [
    {
     "output_type": "execute_result",
     "data": {
      "text/plain": "[('Yoshua Bengio', 0.0009813251422738684),\n ('Sergey Levine', 0.0006652895508167422),\n ('Yang Liu', 0.0005325434591979585),\n ('Pieter Abbeel', 0.0004938888333757853),\n ('Masashi Sugiyama', 0.00041224912836444646),\n ('Joelle Pineau', 0.0004051416082410334),\n ('Max Welling', 0.00034357120628114026),\n ('Tong Zhang', 0.00033667850548171516),\n ('Stefano Ermon', 0.0003231425950758457),\n ('Shie Mannor', 0.000321913785447665)]"
     },
     "metadata": {},
     "execution_count": 4
    }
   ],
   "source": [
    "#Initialize the graph\n",
    "graph = nx.Graph()\n",
    "#Add nodes by author name\n",
    "graph.add_nodes_from(authors.keys())\n",
    "\n",
    "#Add edges. Edges are a tuple of (From, To, Weight)\n",
    "edges = list(chain.from_iterable([[(author, coauthor, weight) for coauthor, weight in neighs.items()] for author, neighs in authors.items()]))\n",
    "graph.add_weighted_edges_from(edges)\n",
    "\n",
    "pr = nx.pagerank(graph)\n",
    "ranked = sorted(list(pr.items()), key = lambda x: x[1], reverse=True)\n",
    "ranked[0:10]"
   ]
  }
 ],
 "metadata": {
  "language_info": {
   "name": "python",
   "codemirror_mode": {
    "name": "ipython",
    "version": 3
   },
   "version": "3.7.7-final"
  },
  "orig_nbformat": 2,
  "file_extension": ".py",
  "mimetype": "text/x-python",
  "name": "python",
  "npconvert_exporter": "python",
  "pygments_lexer": "ipython3",
  "version": 3,
  "kernelspec": {
   "name": "python37764bit7c9529492c944da2b2b46c95b5f20df1",
   "display_name": "Python 3.7.7 64-bit"
  }
 },
 "nbformat": 4,
 "nbformat_minor": 2
}