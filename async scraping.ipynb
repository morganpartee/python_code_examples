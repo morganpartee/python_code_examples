{
 "cells": [
  {
   "cell_type": "markdown",
   "metadata": {},
   "source": [
    "# Better Webscraping in Python\n",
    "\n",
    "In this file, we're going to use:\n",
    "- AsyncIO: https://docs.python.org/3/library/asyncio.html\n",
    "- Requests-HTML: https://pypi.org/project/requests-html/\n",
    "- Pandas: https://pandas.pydata.org/\n",
    "- BeautifulSoup4: https://pypi.org/project/beautifulsoup4/\n",
    "\n",
    "The idea here is to use:\n",
    "- Requests-html to get the website (and render JS if we need to)\n",
    "- AsyncIO to do that asyncronously (and FAST!)\n",
    "- BeautifulSoup to process the CSS selectors and stuff\n",
    "- Pandas when we have a table to turn into a dataframe\n",
    "\n",
    "The part that screws a lot of people up is CSS selectors. Right click on a website, hit inspect, and take a look. HTML is intimidating at first, but it's not difficult to read. Go here to learn how to use CSS selectors at: https://flukeout.github.io/\n",
    "\n",
    "I'm not going to discuss xpaths here, they tend to be a lot of trouble, and not that much better than CSS selectors once you know what you're doing.\n",
    "\n",
    "## Let's scrape!\n",
    "\n",
    "For this example, I'm going to scrape IMDB movie review text."
   ]
  },
  {
   "cell_type": "code",
   "execution_count": 1,
   "metadata": {},
   "outputs": [
    {
     "output_type": "stream",
     "name": "stdout",
     "text": "[\"When Ellen went to Spitsbergen, she went for adventure. She also expected Lars, her host, to be a rough husky adventurer, but was deceived as Lars turned out to be a silent clumsy tinkerer.At the beginning this movie didn't seem very special to me. But along the way the psychology of Lars and Ellen was getting more and more interesting.Then when the end came the movie took my breath away. Probably because this movie happened for real as well as how realistic it was filmed I could completely imagine myself in Lars' place (contrary to 'Hollywood hits' which are often too cinematic for such empathy).Finally, the movie also shows how it's like to live in Spitsbergen: rough, but not adventurous.\", \"Joel Schumacher who did an OK job on the third Batman Movie, has simply lost the plot on this one. Poorly cast with the exception of Robin and Ivy, this is far more like the 60's TV series than the comic books, and it just does not work.The Baddies are not menacing, Schwarzenegger rarely performs this badly and Uma Thurman, although she did an OK job was just a poor character.As for Batgirl, this is just too much.Bring back Keaton and Tim Burton and take Batman back to his dark roots.There is no future for Batman if it continues like this.3/10\", 'This is Rik Mayall and Ade Edmondsons fifth Bottom live show, and this one is, as always, worth a watch - especially if you are a fan of the two immature old boys :) I won\\'t recommend it for a first time Bottom live show watcher, since this one is weaker than the first three live shows, and not nearly as much fun. But then again it\\'s not as \"weak/bad\" as the fourth, An Arse Oddity. But not to worry, there\\'s still quite a few memorable moments that make you laugh out loud (for example the scene with \"The Evacuator\" ... which is a clever little device to be used in stead of a toilet ... Richie is of course the one who test drives it - trust me, this scene will leave your in tears with laughter) - and this live show does contain one of their best and most impressive scenes - the one where they travel 30 minutes back in time with Eddies invented time machine \"The Turdis\". Thereafter they fast forward those 30 minutes, which means they have to reenact the 30 minutes they have already acted once, and they do this in a very VERY fast pace. I was really impressed with this stunt as it must have taken a REALLY long time to choreograph into perfection. Well - to the plot: In this live show Eddie has invented several thing: The \"Time Machine\" (The Turdis\") i\\'ve just mentioned, \"Weapons Grade Lager\" and \"The Patent Painless Tattoo-Remover\". And that\\'s pretty much the plot... What other thing, that happens in this show I will leave as a surprise. It\\'s worth a watch, but don\\'t watch it with too high expectation, because this one is not their funniest work.', \"Brilliant, hilarious, crude, and did I say brilliant!!! Neil is great in these series, as is Martin, Caroline and Leslie. The look at their hum-drum lives couldn't be funnier and yet so close to the heart of so many of us out there!!! These two unlikely house-mates (Clunes and Morrisey) somehow make a fantastic coupling of characters which tug at the funny-bones, and even a little at the heartstrings, as they try to impress (but often insult) the patient and persevering Deborah and Dorothy. Not to mention their less than impressive career moves. Leaves a certain American series starring a certain American comedian for dead!!!\", 'I had so much anticipation before seeing this film. But in the end it seemed to be a poor cross between the history channel and a gay sex in the city.I won\\'t summarise the plot as most know it already.The only person to come out intact was Val Kilmer. His almost perfect portrayal of an edgy, alcoholic, despot was breath-taking. Colin Farrell by contrast seemed not to be able to cope. Alexander was a notorious alcoholic, yet Farrell\\'s character is remarkably sober throughout. The one time he seemed a little drunk was in killing Cleitus, in the party scene in India. Here he kills a man who has fought with him in all his campaigns, yet it the film he does it fully cognisant, fully sober and completely unbelievably.The so called homo-erotic scenes between Farrell\\'s Alexander and Jared Leto\\'s Hephaistion were so laughable they merit no comment. Most people seemed not be offended by their inclusion but rather at how badly these scenes were performed. The only thing I would ask the director is as Firth seemed so uncomfortable with the gay scenes why make these scenes so integral to the film? I know a man like Alexander is too big to cover in a film. But this was pathetic. Alexander the man who conquered what was then the greatest empire the world had ever seen. The man who founded countless cities, never defeated in battle, and persuaded men form the \"Hicksville\" end of Greece to fight to the end of the known world. A man who convinced older men and wiser men that impossible dreams could not only be dreamt but made real. This man in this film is reduced to an a character out of the OC, forever pondering the psycho dynamics of the situation in between getting his leg over with the next dark eyed, dark haired man.The script seemed to have been written by people that had drunk all the wine meant for Alexander. Come on guys you are better than this! The direction had no flow, no continuity, no consistency and in fact no quality.The only scenes that were reasonable were the expansive shots of the Mountains. But this director is no David Lean. No John Ford. And even these scenes seem to feel like some kind of travel show than an historic epic.When I watched this film, for the first time in a long time people started walking out of the cinema. I don\\'t blame them.In short this film is complete flawed. But the greatest crime is that is could have been great but should have good. Unfortunately where this film needed a director like David Lean or Stanley Kubrick; we instead got someone that should limit his endeavours to the history channel.Anyone who thinks this film was good needs to develop an opinion. Simply opposing the opinion of the Conservative right in the US does not make for a realistic appraisal.']\n"
    }
   ],
   "source": [
    "#Import our libraries\n",
    "import asyncio\n",
    "from bs4 import BeautifulSoup\n",
    "from requests_html import AsyncHTMLSession\n",
    "import spacy\n",
    "\n",
    "\n",
    "@asyncio.coroutine\n",
    "async def getReviewText(linkStr):\n",
    "    \"\"\"\n",
    "    This function returns the title and text of an imdb review, given the permalink.\n",
    "    \"\"\"\n",
    "    # Create the async session. Think of this as your browser, it reaches out to get a URL.\n",
    "    session = AsyncHTMLSession()\n",
    "    # Get the page from the link! Note the await keyword. This tells python that we are waiting on a response.\n",
    "    page = await session.get(linkStr)\n",
    "    # Close the session.\n",
    "    await session.close()\n",
    "    # Status code 200 means it was successful. \n",
    "    if page.status_code == 200:\n",
    "        #Make the beautifulsoup object from the html, see the docs if you haven't done this before\n",
    "        soup = BeautifulSoup(page.html.raw_html)\n",
    "        #Then, use BS4's find function to return just the class we want. And, just the text!\n",
    "        return(soup.find(\"div\", {\"class\": \"text show-more__control\"}).text)\n",
    "\n",
    "\n",
    "async def getAllReviews(linksList):\n",
    "    \"\"\"\n",
    "    This driver function creates a bunch of asycio jobs with the function above.\n",
    "    This lets us get a hundred or more reviews at once, pretty darn quick.\n",
    "    \"\"\"\n",
    "    #This makes the async objects\n",
    "    jobs = list(map(getReviewText, linksList))\n",
    "    #Jobs is unpacked into gather, which we then await. This allows them all to work in parallel!\n",
    "    results = await asyncio.gather(*jobs)\n",
    "    #Keep the result if it's not none. Remember that we only return a result if the code is 200.\n",
    "    results = [result for result in results if result]\n",
    "    return(results)\n",
    "\n",
    "#Let's try it out!\n",
    "urlbase = \"https://www.imdb.com/review/rw1000\"\n",
    "links = [f\"{urlbase}{i:03d}\" for i in range(50)]\n",
    "\n",
    "results = await getAllReviews(links)\n",
    "print(results[0:5])"
   ]
  },
  {
   "cell_type": "markdown",
   "metadata": {},
   "source": [
    "We can see above, the result is a list of the text like we expected!\n",
    "\n",
    "So, what about tables? Let's use pandas to pull the Passing, Rushing, & Receiving stats table from here: https://www.pro-football-reference.com/boxscores/201909050chi.htm\n",
    "\n",
    "Inspect the page and see what we're dealing with. We have some javascript to render, the table is the 'table' class, and the id is 'player_offense', which makes our job pretty easy!\n",
    "\n",
    "**Pay close attention to the .render() call, that is going to be useful often!**"
   ]
  },
  {
   "cell_type": "code",
   "execution_count": 2,
   "metadata": {},
   "outputs": [],
   "source": [
    "import pandas as pd\n",
    "\n",
    "@asyncio.coroutine\n",
    "async def getTable(linkStr):\n",
    "    \"\"\"\n",
    "    This function gets a table based on the html class, and turns it into a Pandas dataframe.\n",
    "    \"\"\"\n",
    "    # Create the async session. Think of this as your browser, it reaches out to get a URL.\n",
    "    session = AsyncHTMLSession()\n",
    "    # Get the page from the link! Note the await keyword. This tells python that we are waiting on a response.\n",
    "    page = await session.get(linkStr)\n",
    "    # Render the page (This handles the javascript rendering)\n",
    "    await page.html.arender()\n",
    "    # Close the session.\n",
    "    await session.close()\n",
    "    # Status code 200 means it was successful. \n",
    "    if page.status_code == 200:\n",
    "        #Make the beautifulsoup object from the html, see the docs if you haven't done this before\n",
    "        soup = BeautifulSoup(page.html.raw_html)\n",
    "        #Then, use BS4's find function to return just the class we want.\n",
    "        table = str(soup.find('table', id=\"player_offense\"))\n",
    "        #And, use pandas to parse it into a table. Super easy, right?\n",
    "        return pd.read_html(table)\n"
   ]
  },
  {
   "cell_type": "code",
   "execution_count": 3,
   "metadata": {},
   "outputs": [
    {
     "output_type": "stream",
     "name": "stdout",
     "text": "[[          Unnamed: 0_level_0 Unnamed: 1_level_0  Passing                    \\\n                      Player                 Tm      Cmp      Att      Yds   \n0              Aaron Rodgers                GNB       18       30      203   \n1                Aaron Jones                GNB        0        0        0   \n2   Marquez Valdes-Scantling                GNB        0        0        0   \n3              Davante Adams                GNB        0        0        0   \n4               Jimmy Graham                GNB        0        0        0   \n5               Trevor Davis                GNB        0        0        0   \n6              Robert Tonyan                GNB        0        0        0   \n7            Jamaal Williams                GNB        0        0        0   \n8             Marcedes Lewis                GNB        0        0        0   \n9                        NaN                NaN  Passing  Passing  Passing   \n10                    Player                 Tm      Cmp      Att      Yds   \n11         Mitchell Trubisky                CHI       26       45      228   \n12                Mike Davis                CHI        0        0        0   \n13          David Montgomery                CHI        0        0        0   \n14            Allen Robinson                CHI        0        0        0   \n15               Tarik Cohen                CHI        0        0        0   \n16            Taylor Gabriel                CHI        0        0        0   \n17              Adam Shaheen                CHI        0        0        0   \n18            Anthony Miller                CHI        0        0        0   \n19                Javon Wims                CHI        0        0        0   \n20     Cordarrelle Patterson                CHI        0        0        0   \n\n                                                 ...  Rushing           \\\n         TD      Int       Sk    Yds.1      Lng  ...      Yds       TD   \n0         1        0        5       37       47  ...        8        0   \n1         0        0        0        0        0  ...       39        0   \n2         0        0        0        0        0  ...        0        0   \n3         0        0        0        0        0  ...        0        0   \n4         0        0        0        0        0  ...        0        0   \n5         0        0        0        0        0  ...        0        0   \n6         0        0        0        0        0  ...        0        0   \n7         0        0        0        0        0  ...        0        0   \n8         0        0        0        0        0  ...        0        0   \n9   Passing  Passing  Passing  Passing  Passing  ...  Rushing  Rushing   \n10       TD      Int       Sk      Yds      Lng  ...      Yds       TD   \n11        0        1        5       20       27  ...       11        0   \n12        0        0        0        0        0  ...       19        0   \n13        0        0        0        0        0  ...       18        0   \n14        0        0        0        0        0  ...        0        0   \n15        0        0        0        0        0  ...        0        0   \n16        0        0        0        0        0  ...        0        0   \n17        0        0        0        0        0  ...        0        0   \n18        0        0        0        0        0  ...        0        0   \n19        0        0        0        0        0  ...        0        0   \n20        0        0        0        0        0  ...       -2        0   \n\n             Receiving                                              Fumbles  \\\n        Lng        Tgt        Rec        Yds         TD        Lng      Fmb   \n0        10          0          0          0          0          0        0   \n1         9          1          1          0          0          0        1   \n2         0          6          4         52          0         47        0   \n3         0          8          4         36          0         11        0   \n4         0          5          3         30          1         16        0   \n5         0          1          1         28          0         28        0   \n6         0          1          1         28          0         28        0   \n7         5          2          2         15          0         10        0   \n8         0          3          2         14          0          9        0   \n9   Rushing  Receiving  Receiving  Receiving  Receiving  Receiving  Fumbles   \n10      Lng        Tgt        Rec        Yds         TD        Lng      Fmb   \n11        7          0          0          0          0          0        0   \n12        8          7          6         17          0          7        0   \n13        6          1          1         27          0         27        0   \n14        0         13          7        102          0         27        0   \n15        0         10          8         49          0          9        0   \n16        0          5          2         24          0         15        0   \n17        0          2          1          6          0          6        0   \n18        0          1          0          0          0          0        0   \n19        0          2          0          0          0          0        0   \n20       -2          3          1          3          0          3        0   \n\n             \n         FL  \n0         0  \n1         0  \n2         0  \n3         0  \n4         0  \n5         0  \n6         0  \n7         0  \n8         0  \n9   Fumbles  \n10       FL  \n11        0  \n12        0  \n13        0  \n14        0  \n15        0  \n16        0  \n17        0  \n18        0  \n19        0  \n20        0  \n\n[21 rows x 22 columns]]]\n"
    }
   ],
   "source": [
    "url = 'https://www.pro-football-reference.com/boxscores/201909050chi.htm'\n",
    "print(await asyncio.gather(getTable(url)))"
   ]
  },
  {
   "cell_type": "markdown",
   "metadata": {},
   "source": [
    "As we can see (Sorry it's kinda ugly), the output is a plain old pandas dataframe. From there, it's time for data cleaning! But I'll leave that for you all to figure out."
   ]
  }
 ],
 "metadata": {
  "language_info": {
   "codemirror_mode": {
    "name": "ipython",
    "version": 3
   },
   "file_extension": ".py",
   "mimetype": "text/x-python",
   "name": "python",
   "nbconvert_exporter": "python",
   "pygments_lexer": "ipython3",
   "version": "3.7.7-final"
  },
  "orig_nbformat": 2,
  "kernelspec": {
   "name": "python37764bit7c9529492c944da2b2b46c95b5f20df1",
   "display_name": "Python 3.7.7 64-bit"
  }
 },
 "nbformat": 4,
 "nbformat_minor": 2
}